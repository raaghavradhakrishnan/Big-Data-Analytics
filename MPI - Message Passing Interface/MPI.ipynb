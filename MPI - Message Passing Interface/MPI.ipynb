{
 "cells": [
  {
   "cell_type": "code",
   "execution_count": null,
   "metadata": {},
   "outputs": [],
   "source": [
    "%%file 1a.py\n",
    "\n",
    "#Importing libraries\n",
    "from mpi4py import MPI\n",
    "import numpy as np\n",
    "\n",
    "#Initialize MPI\n",
    "comm = MPI.COMM_WORLD\n",
    "\n",
    "#Get rank of the communicator\n",
    "rank = comm.Get_rank()\n",
    "\n",
    "#Size of the process\n",
    "size = comm.Get_size()\n",
    "\n",
    "#Variable Initialization\n",
    "N = int(16)\n",
    "sum_xy = []\n",
    "executiontime = 0\n",
    "\n",
    "#Master Process\n",
    "if rank != 0:\n",
    "    start = MPI.Wtime()    \n",
    "    a = comm.recv(source = 0)\n",
    "    b = comm.recv(source = 0)\n",
    "    comm.send(a+b, dest = 0, tag = 1)\n",
    "    end = MPI.Wtime()\n",
    "    comm.send(end-start,dest=0,tag=2)\n",
    "    print(\"Time taken by worker \",rank,\"is: \", end - start)\n",
    "    \n",
    "#Worker Process    \n",
    "else:\n",
    "    start = MPI.Wtime()\n",
    "    x = np.random.randint(100,size = N)\n",
    "    y = np.random.randint(100,size = N)\n",
    "    \n",
    "    #Splitting the dataset depending on the size of the workers\n",
    "    split_x = np.array_split(x,size)\n",
    "    split_y = np.array_split(y,size)\n",
    "    \n",
    "    if rank == 0:\n",
    "        #Master's work\n",
    "        sum_xy.extend(list(split_x[rank]+split_y[rank]))\n",
    "        \n",
    "    for worker in range(1,size):\n",
    "        #Pointopoint communication to worker\n",
    "        comm.send(split_x[worker], dest = worker)\n",
    "        comm.send(split_y[worker], dest = worker)\n",
    "        sum_xy.extend(list(comm.recv(source = worker,tag=1)))\n",
    "        executiontime+=comm.recv(source=worker,tag=2)\n",
    "\n",
    "    end = MPI.Wtime()\n",
    "    executiontime += (end - start)\n",
    "    print(\"Time taken by worker \",rank,\"is: \", end - start)\n",
    "    print(\"Total executed time: \", np.sum(executiontime))\n",
    "    print(\"\\nX:\",x)\n",
    "    print(\"Y:\",y)\n",
    "    print(\"Sum:\",sum_xy)"
   ]
  },
  {
   "cell_type": "code",
   "execution_count": null,
   "metadata": {},
   "outputs": [],
   "source": [
    "!mpiexec -n 1 python 1a.py"
   ]
  },
  {
   "cell_type": "code",
   "execution_count": null,
   "metadata": {},
   "outputs": [],
   "source": [
    "!mpiexec -n 2 python 1a.py"
   ]
  },
  {
   "cell_type": "code",
   "execution_count": null,
   "metadata": {},
   "outputs": [],
   "source": []
  },
  {
   "cell_type": "code",
   "execution_count": null,
   "metadata": {},
   "outputs": [],
   "source": [
    "%%file 1b.py\n",
    "\n",
    "#Importing libraries\n",
    "from mpi4py import MPI\n",
    "import numpy as np\n",
    "\n",
    "#Initialize MPI\n",
    "comm = MPI.COMM_WORLD\n",
    "#Get rank of the worker\n",
    "rank = comm.Get_rank()\n",
    "#Get size of the process\n",
    "size = comm.Get_size()\n",
    "\n",
    "#Initialize variable\n",
    "N = int(1e4)\n",
    "average = None\n",
    "average_x = []\n",
    "executiontime = 0\n",
    "\n",
    "#Master Process\n",
    "if rank != 0:\n",
    "    start = MPI.Wtime()    \n",
    "    a = comm.recv(source = 0)\n",
    "    comm.send(np.sum(a)/len(a), dest = 0, tag = 1)\n",
    "    end = MPI.Wtime()\n",
    "    comm.send(end-start,dest=0,tag=2)\n",
    "    print(\"Time taken by worker \",rank,\"is: \", end - start)\n",
    "\n",
    "#Worker Process\n",
    "else:\n",
    "    start = MPI.Wtime()\n",
    "    x = np.random.randint(100,size=N)\n",
    "    \n",
    "    #Split data based on number of workers\n",
    "    split_x = np.array_split(x,size)\n",
    "    \n",
    "    #Master's work\n",
    "    if rank == 0:\n",
    "        average_x.append(np.sum(split_x[rank])/len(split_x[rank]))\n",
    "        \n",
    "    #Worker's part\n",
    "    for worker in range(1,size):\n",
    "        comm.send(split_x[worker], dest = worker)\n",
    "        average_x.append(comm.recv(source = worker,tag=1))\n",
    "        executiontime+=comm.recv(source=worker,tag=2)\n",
    "    \n",
    "    #Average of the vector\n",
    "    average = np.average(average_x)\n",
    "    end = MPI.Wtime()\n",
    "    executiontime += (end - start)\n",
    "    print(\"Time taken by worker \",rank,\"is: \", end - start)\n",
    "    print(\"Total executed time: \", np.sum(executiontime))\n",
    "#     print(\"\\nX:\",x)\n",
    "#     print(\"Average:\",average)"
   ]
  },
  {
   "cell_type": "code",
   "execution_count": null,
   "metadata": {},
   "outputs": [],
   "source": [
    "!mpiexec -n 1 python 1b.py"
   ]
  },
  {
   "cell_type": "code",
   "execution_count": null,
   "metadata": {
    "scrolled": true
   },
   "outputs": [],
   "source": [
    "!mpiexec -n 2 python 1b.py"
   ]
  },
  {
   "cell_type": "code",
   "execution_count": null,
   "metadata": {},
   "outputs": [],
   "source": [
    "%%file 2VecMult.py\n",
    "\n",
    "#Import Library\n",
    "from mpi4py import MPI\n",
    "import numpy as np\n",
    "\n",
    "#Initialize MPI\n",
    "comm = MPI.COMM_WORLD\n",
    "rank = comm.Get_rank()\n",
    "size = comm.Get_size()\n",
    "\n",
    "N = int(1e4)\n",
    "VecMult = []\n",
    "executiontime = 0\n",
    "\n",
    "if rank != 0:\n",
    "    start = MPI.Wtime()    \n",
    "    A = comm.recv(source = 0)\n",
    "    b = comm.recv(source = 0)\n",
    "    comm.send(np.matmul(A,b), dest = 0, tag = 1)\n",
    "    end = MPI.Wtime()\n",
    "    comm.send(end-start,dest=0,tag=2)\n",
    "    print(\"Time taken by worker \",rank,\"is: \", end - start)\n",
    "    \n",
    "else:\n",
    "    start = MPI.Wtime()\n",
    "    A = np.random.randint(100,size=(N,N))\n",
    "    b = np.random.randint(100,size=(N,1))\n",
    "    split_A= np.array_split(A,size)\n",
    "    \n",
    "    if rank == 0:\n",
    "        out = np.matmul(split_A[rank],b)\n",
    "        VecMult.extend(out.flatten().tolist())\n",
    "        \n",
    "    for worker in range(1,size):\n",
    "        comm.send(split_A[worker], dest = worker)\n",
    "        comm.send(b,dest=worker)\n",
    "        out = comm.recv(source = worker,tag=1)\n",
    "        VecMult.extend(out.flatten().tolist())\n",
    "        executiontime+=comm.recv(source=worker,tag=2)\n",
    "    end = MPI.Wtime()\n",
    "    executiontime += (end - start)\n",
    "    print(\"Time taken by worker \",rank,\"is: \", end - start)\n",
    "    print(\"Total executed time: \", np.sum(executiontime))\n",
    "#     print(\"\\nA:\",A)\n",
    "#     print(\"b:\",b)\n",
    "#     print(\"Vector Multiplication:\",VecMult)\n",
    "    print(len(VecMult))"
   ]
  },
  {
   "cell_type": "code",
   "execution_count": null,
   "metadata": {},
   "outputs": [],
   "source": [
    "!mpiexec -n 1 python 2VecMult.py"
   ]
  },
  {
   "cell_type": "code",
   "execution_count": null,
   "metadata": {},
   "outputs": [],
   "source": [
    "!mpiexec -n 2 python 2VecMult.py"
   ]
  },
  {
   "cell_type": "code",
   "execution_count": null,
   "metadata": {},
   "outputs": [],
   "source": [
    "%%file sam.py\n",
    "\n",
    "#Import Library\n",
    "from mpi4py import MPI\n",
    "import numpy as np\n",
    "\n",
    "#Initialize MPI\n",
    "comm = MPI.COMM_WORLD\n",
    "size = comm.Get_size()\n",
    "rank = comm.Get_rank()\n",
    "\n",
    "#Initialize Matrices\n",
    "A = None\n",
    "B = None\n",
    "N = int(1e2)\n",
    "C = np.zeros((N,N))\n",
    "\n",
    "\n",
    "if rank != 0:\n",
    "    B = np.empty((N,N))\n",
    "else:\n",
    "    A = np.random.rand(N,N)\n",
    "    B = np.random.rand(N,N)\n",
    "\n",
    "#Receiving variable\n",
    "Arecv = np.empty((int(N/size),N))\n",
    "start = MPI.Wtime()\n",
    "\n",
    "#Separate data to all workers\n",
    "comm.Scatter(A,Arecv,root=0)\n",
    "\n",
    "#Send a copy of the vector to all workers\n",
    "comm.Bcast(B,root=0)\n",
    "\n",
    "#Gather the result from all workers\n",
    "comm.Gather(np.matmul(Arecv,B),C,root=0)\n",
    "\n",
    "end = MPI.Wtime()\n",
    "print(\"Time taken by worker:\",rank,\"is: \",end-start)"
   ]
  },
  {
   "cell_type": "code",
   "execution_count": null,
   "metadata": {
    "scrolled": true
   },
   "outputs": [],
   "source": [
    "!mpiexec -n 1 python sam.py"
   ]
  },
  {
   "cell_type": "code",
   "execution_count": null,
   "metadata": {
    "scrolled": true
   },
   "outputs": [],
   "source": [
    "!mpiexec -n 2 python sam.py"
   ]
  },
  {
   "cell_type": "code",
   "execution_count": null,
   "metadata": {},
   "outputs": [],
   "source": []
  }
 ],
 "metadata": {
  "kernelspec": {
   "display_name": "Python 3",
   "language": "python",
   "name": "python3"
  },
  "language_info": {
   "codemirror_mode": {
    "name": "ipython",
    "version": 3
   },
   "file_extension": ".py",
   "mimetype": "text/x-python",
   "name": "python",
   "nbconvert_exporter": "python",
   "pygments_lexer": "ipython3",
   "version": "3.5.4"
  }
 },
 "nbformat": 4,
 "nbformat_minor": 2
}
